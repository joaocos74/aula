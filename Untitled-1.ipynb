{
 "cells": [
  {
   "cell_type": "code",
   "execution_count": null,
   "metadata": {},
   "outputs": [],
   "source": [
    "def calcular_titulo_em_massa(massa_componente, massa_total):\n",
    "    return massa_componente / massa_total\n",
    "\n",
    "def calcular_porcentagem_em_massa(massa_componente, massa_total):\n",
    "    return (massa_componente / massa_total) * 100\n",
    "\n",
    "# Massa dos componentes A e B (em gramas)\n",
    "massa_A = 25.0  \n",
    "massa_B = 35.0  \n",
    "\n",
    "# Massa total da mistura (em gramas)\n",
    "massa_total = massa_A + massa_B  \n",
    "\n",
    "# Cálculo do título em massa de cada componente\n",
    "titulo_A = calcular_titulo_em_massa(massa_A, massa_total)\n",
    "titulo_B = calcular_titulo_em_massa(massa_B, massa_total)\n",
    "\n",
    "# Cálculo da porcentagem em massa de cada componente\n",
    "porcentagem_A = calcular_porcentagem_em_massa(massa_A, massa_total)\n",
    "porcentagem_B = calcular_porcentagem_em_massa(massa_B, massa_total)\n",
    "\n",
    "# Resultados\n",
    "print(f\"Massa do componente A: {massa_A:.2f}g\")\n",
    "print(f\"Massa do componente B: {massa_B:.2f}g\")\n",
    "print(f\"Massa total da mistura: {massa_total:.2f}g\")\n",
    "print(f\"Título em massa do componente A: {titulo_A:.2f}\")\n",
    "print(f\"Título em massa do componente B: {titulo_B:.2f}\")\n",
    "print(f\"Porcentagem em massa do componente A: {porcentagem_A:.2f}%\")\n",
    "print(f\"Porcentagem em massa do componente B: {porcentagem_B:.2f}%\")"
   ]
  }
 ],
 "metadata": {
  "language_info": {
   "name": "python"
  },
  "orig_nbformat": 4
 },
 "nbformat": 4,
 "nbformat_minor": 2
}
